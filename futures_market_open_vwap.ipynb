{
 "cells": [
  {
   "cell_type": "code",
   "execution_count": 2,
   "outputs": [],
   "source": [
    "from datetime import date\n",
    "\n",
    "import numpy as np\n",
    "import matplotlib.pyplot as plt\n",
    "import pandas as pd\n",
    "from pandas import DataFrame, pivot_table, read_csv\n",
    "from scipy.signal import argrelextrema\n",
    "\n",
    "from rxtrade.data import add_amplitude_column, add_basic_columns\n",
    "from rxtrade.utils import get_data_files"
   ],
   "metadata": {
    "collapsed": false,
    "pycharm": {
     "name": "#%%\n"
    }
   }
  },
  {
   "cell_type": "code",
   "execution_count": 3,
   "outputs": [],
   "source": [
    "def get_data_df(ticker: str, file_path: str) -> DataFrame:\n",
    "    df = read_csv(file_path)\n",
    "\n",
    "    add_basic_columns(df)\n",
    "    add_amplitude_column(ticker, df)\n",
    "\n",
    "    df[f\"VWAP ({ticker})\"] = df[\"Plot\"]\n",
    "\n",
    "    return df"
   ],
   "metadata": {
    "collapsed": false,
    "pycharm": {
     "name": "#%%\n"
    }
   }
  },
  {
   "cell_type": "code",
   "execution_count": 4,
   "metadata": {
    "collapsed": true
   },
   "outputs": [
    {
     "data": {
      "text/plain": "                           time   open_x   high_x    low_x  close_x  \\\n0     2022-01-16 17:00:00-06:00  4666.00  4671.75  4664.00  4667.00   \n1     2022-01-16 17:01:00-06:00  4666.75  4669.00  4666.25  4668.50   \n2     2022-01-16 17:02:00-06:00  4668.75  4669.00  4665.50  4666.50   \n3     2022-01-16 17:03:00-06:00  4666.50  4667.00  4664.25  4665.25   \n4     2022-01-16 17:04:00-06:00  4665.00  4665.00  4661.50  4663.75   \n...                         ...      ...      ...      ...      ...   \n13545 2022-01-28 15:55:00-06:00  4421.75  4422.00  4420.25  4420.50   \n13546 2022-01-28 15:56:00-06:00  4420.25  4420.75  4420.00  4420.00   \n13547 2022-01-28 15:57:00-06:00  4420.25  4420.75  4419.75  4420.25   \n13548 2022-01-28 15:58:00-06:00  4420.25  4420.50  4419.50  4420.50   \n13549 2022-01-28 15:59:00-06:00  4420.25  4420.25  4419.00  4419.75   \n\n            Plot_x      MA #1_x      MA #2_x      MA #3_x  BB Basis_x  ...  \\\n0      4667.583333          NaN          NaN          NaN         NaN  ...   \n1      4667.704608          NaN          NaN          NaN         NaN  ...   \n2      4667.608905          NaN          NaN          NaN         NaN  ...   \n3      4667.318743          NaN          NaN          NaN         NaN  ...   \n4      4666.474462  4666.200000          NaN          NaN         NaN  ...   \n...            ...          ...          ...          ...         ...  ...   \n13545  4345.491292  4420.880714  4420.977394  4415.356017   4421.3375  ...   \n13546  4345.497815  4420.587143  4420.799686  4415.508279   4421.3250  ...   \n13547  4345.510822  4420.474762  4420.699743  4415.663745   4421.2750  ...   \n13548  4345.526895  4420.483175  4420.663426  4415.822311   4421.2750  ...   \n13549  4345.545370  4420.238783  4420.497349  4415.951088   4421.1875  ...   \n\n        BB #1 Lower   BB #2 Upper   BB #2 Lower  Volume  Volume MA  \\\n0               NaN           NaN           NaN     336        NaN   \n1               NaN           NaN           NaN     291        NaN   \n2               NaN           NaN           NaN     144        NaN   \n3               NaN           NaN           NaN     119        NaN   \n4               NaN           NaN           NaN     208        NaN   \n...             ...           ...           ...     ...        ...   \n13545  34572.168051  34597.247923  34567.152077      21      42.25   \n13546  34573.875880  34596.061180  34569.438820      20      41.70   \n13547  34574.045573  34595.931641  34569.668359      26      41.50   \n13548  34574.705423  34595.441865  34570.558135      77      42.65   \n13549  34574.045573  34595.931641  34569.668359      46      43.05   \n\n       Market Date Market Hour  Market Code Amplitude (YM)     VWAP (YM)  \n0       2022-01-17          17            E            NaN  35874.000000  \n1       2022-01-17          17            E           15.0  35875.237640  \n2       2022-01-17          17            E           13.0  35875.068742  \n3       2022-01-17          17            E            7.0  35873.365918  \n4       2022-01-17          17            E           13.0  35868.497571  \n...            ...         ...          ...            ...           ...  \n13545   2022-01-28          15            E            8.0  34043.985031  \n13546   2022-01-28          15            E            0.0  34044.019669  \n13547   2022-01-28          15            E            5.0  34044.064524  \n13548   2022-01-28          15            E            2.0  34044.197732  \n13549   2022-01-28          15            E            4.0  34044.276441  \n\n[13550 rows x 61 columns]",
      "text/html": "<div>\n<style scoped>\n    .dataframe tbody tr th:only-of-type {\n        vertical-align: middle;\n    }\n\n    .dataframe tbody tr th {\n        vertical-align: top;\n    }\n\n    .dataframe thead th {\n        text-align: right;\n    }\n</style>\n<table border=\"1\" class=\"dataframe\">\n  <thead>\n    <tr style=\"text-align: right;\">\n      <th></th>\n      <th>time</th>\n      <th>open_x</th>\n      <th>high_x</th>\n      <th>low_x</th>\n      <th>close_x</th>\n      <th>Plot_x</th>\n      <th>MA #1_x</th>\n      <th>MA #2_x</th>\n      <th>MA #3_x</th>\n      <th>BB Basis_x</th>\n      <th>...</th>\n      <th>BB #1 Lower</th>\n      <th>BB #2 Upper</th>\n      <th>BB #2 Lower</th>\n      <th>Volume</th>\n      <th>Volume MA</th>\n      <th>Market Date</th>\n      <th>Market Hour</th>\n      <th>Market Code</th>\n      <th>Amplitude (YM)</th>\n      <th>VWAP (YM)</th>\n    </tr>\n  </thead>\n  <tbody>\n    <tr>\n      <th>0</th>\n      <td>2022-01-16 17:00:00-06:00</td>\n      <td>4666.00</td>\n      <td>4671.75</td>\n      <td>4664.00</td>\n      <td>4667.00</td>\n      <td>4667.583333</td>\n      <td>NaN</td>\n      <td>NaN</td>\n      <td>NaN</td>\n      <td>NaN</td>\n      <td>...</td>\n      <td>NaN</td>\n      <td>NaN</td>\n      <td>NaN</td>\n      <td>336</td>\n      <td>NaN</td>\n      <td>2022-01-17</td>\n      <td>17</td>\n      <td>E</td>\n      <td>NaN</td>\n      <td>35874.000000</td>\n    </tr>\n    <tr>\n      <th>1</th>\n      <td>2022-01-16 17:01:00-06:00</td>\n      <td>4666.75</td>\n      <td>4669.00</td>\n      <td>4666.25</td>\n      <td>4668.50</td>\n      <td>4667.704608</td>\n      <td>NaN</td>\n      <td>NaN</td>\n      <td>NaN</td>\n      <td>NaN</td>\n      <td>...</td>\n      <td>NaN</td>\n      <td>NaN</td>\n      <td>NaN</td>\n      <td>291</td>\n      <td>NaN</td>\n      <td>2022-01-17</td>\n      <td>17</td>\n      <td>E</td>\n      <td>15.0</td>\n      <td>35875.237640</td>\n    </tr>\n    <tr>\n      <th>2</th>\n      <td>2022-01-16 17:02:00-06:00</td>\n      <td>4668.75</td>\n      <td>4669.00</td>\n      <td>4665.50</td>\n      <td>4666.50</td>\n      <td>4667.608905</td>\n      <td>NaN</td>\n      <td>NaN</td>\n      <td>NaN</td>\n      <td>NaN</td>\n      <td>...</td>\n      <td>NaN</td>\n      <td>NaN</td>\n      <td>NaN</td>\n      <td>144</td>\n      <td>NaN</td>\n      <td>2022-01-17</td>\n      <td>17</td>\n      <td>E</td>\n      <td>13.0</td>\n      <td>35875.068742</td>\n    </tr>\n    <tr>\n      <th>3</th>\n      <td>2022-01-16 17:03:00-06:00</td>\n      <td>4666.50</td>\n      <td>4667.00</td>\n      <td>4664.25</td>\n      <td>4665.25</td>\n      <td>4667.318743</td>\n      <td>NaN</td>\n      <td>NaN</td>\n      <td>NaN</td>\n      <td>NaN</td>\n      <td>...</td>\n      <td>NaN</td>\n      <td>NaN</td>\n      <td>NaN</td>\n      <td>119</td>\n      <td>NaN</td>\n      <td>2022-01-17</td>\n      <td>17</td>\n      <td>E</td>\n      <td>7.0</td>\n      <td>35873.365918</td>\n    </tr>\n    <tr>\n      <th>4</th>\n      <td>2022-01-16 17:04:00-06:00</td>\n      <td>4665.00</td>\n      <td>4665.00</td>\n      <td>4661.50</td>\n      <td>4663.75</td>\n      <td>4666.474462</td>\n      <td>4666.200000</td>\n      <td>NaN</td>\n      <td>NaN</td>\n      <td>NaN</td>\n      <td>...</td>\n      <td>NaN</td>\n      <td>NaN</td>\n      <td>NaN</td>\n      <td>208</td>\n      <td>NaN</td>\n      <td>2022-01-17</td>\n      <td>17</td>\n      <td>E</td>\n      <td>13.0</td>\n      <td>35868.497571</td>\n    </tr>\n    <tr>\n      <th>...</th>\n      <td>...</td>\n      <td>...</td>\n      <td>...</td>\n      <td>...</td>\n      <td>...</td>\n      <td>...</td>\n      <td>...</td>\n      <td>...</td>\n      <td>...</td>\n      <td>...</td>\n      <td>...</td>\n      <td>...</td>\n      <td>...</td>\n      <td>...</td>\n      <td>...</td>\n      <td>...</td>\n      <td>...</td>\n      <td>...</td>\n      <td>...</td>\n      <td>...</td>\n      <td>...</td>\n    </tr>\n    <tr>\n      <th>13545</th>\n      <td>2022-01-28 15:55:00-06:00</td>\n      <td>4421.75</td>\n      <td>4422.00</td>\n      <td>4420.25</td>\n      <td>4420.50</td>\n      <td>4345.491292</td>\n      <td>4420.880714</td>\n      <td>4420.977394</td>\n      <td>4415.356017</td>\n      <td>4421.3375</td>\n      <td>...</td>\n      <td>34572.168051</td>\n      <td>34597.247923</td>\n      <td>34567.152077</td>\n      <td>21</td>\n      <td>42.25</td>\n      <td>2022-01-28</td>\n      <td>15</td>\n      <td>E</td>\n      <td>8.0</td>\n      <td>34043.985031</td>\n    </tr>\n    <tr>\n      <th>13546</th>\n      <td>2022-01-28 15:56:00-06:00</td>\n      <td>4420.25</td>\n      <td>4420.75</td>\n      <td>4420.00</td>\n      <td>4420.00</td>\n      <td>4345.497815</td>\n      <td>4420.587143</td>\n      <td>4420.799686</td>\n      <td>4415.508279</td>\n      <td>4421.3250</td>\n      <td>...</td>\n      <td>34573.875880</td>\n      <td>34596.061180</td>\n      <td>34569.438820</td>\n      <td>20</td>\n      <td>41.70</td>\n      <td>2022-01-28</td>\n      <td>15</td>\n      <td>E</td>\n      <td>0.0</td>\n      <td>34044.019669</td>\n    </tr>\n    <tr>\n      <th>13547</th>\n      <td>2022-01-28 15:57:00-06:00</td>\n      <td>4420.25</td>\n      <td>4420.75</td>\n      <td>4419.75</td>\n      <td>4420.25</td>\n      <td>4345.510822</td>\n      <td>4420.474762</td>\n      <td>4420.699743</td>\n      <td>4415.663745</td>\n      <td>4421.2750</td>\n      <td>...</td>\n      <td>34574.045573</td>\n      <td>34595.931641</td>\n      <td>34569.668359</td>\n      <td>26</td>\n      <td>41.50</td>\n      <td>2022-01-28</td>\n      <td>15</td>\n      <td>E</td>\n      <td>5.0</td>\n      <td>34044.064524</td>\n    </tr>\n    <tr>\n      <th>13548</th>\n      <td>2022-01-28 15:58:00-06:00</td>\n      <td>4420.25</td>\n      <td>4420.50</td>\n      <td>4419.50</td>\n      <td>4420.50</td>\n      <td>4345.526895</td>\n      <td>4420.483175</td>\n      <td>4420.663426</td>\n      <td>4415.822311</td>\n      <td>4421.2750</td>\n      <td>...</td>\n      <td>34574.705423</td>\n      <td>34595.441865</td>\n      <td>34570.558135</td>\n      <td>77</td>\n      <td>42.65</td>\n      <td>2022-01-28</td>\n      <td>15</td>\n      <td>E</td>\n      <td>2.0</td>\n      <td>34044.197732</td>\n    </tr>\n    <tr>\n      <th>13549</th>\n      <td>2022-01-28 15:59:00-06:00</td>\n      <td>4420.25</td>\n      <td>4420.25</td>\n      <td>4419.00</td>\n      <td>4419.75</td>\n      <td>4345.545370</td>\n      <td>4420.238783</td>\n      <td>4420.497349</td>\n      <td>4415.951088</td>\n      <td>4421.1875</td>\n      <td>...</td>\n      <td>34574.045573</td>\n      <td>34595.931641</td>\n      <td>34569.668359</td>\n      <td>46</td>\n      <td>43.05</td>\n      <td>2022-01-28</td>\n      <td>15</td>\n      <td>E</td>\n      <td>4.0</td>\n      <td>34044.276441</td>\n    </tr>\n  </tbody>\n</table>\n<p>13550 rows × 61 columns</p>\n</div>"
     },
     "execution_count": 4,
     "metadata": {},
     "output_type": "execute_result"
    }
   ],
   "source": [
    "tickers = []\n",
    "df = DataFrame(columns=[\"time\"])\n",
    "\n",
    "# TODO: VWAP breakout rate\n",
    "\n",
    "for data_file in get_data_files(\"./archive/futures/**/*.csv\"):\n",
    "    if data_file.period != 1:\n",
    "        continue\n",
    "\n",
    "    tickers.append(data_file.ticker)\n",
    "    ticker_df = get_data_df(data_file.ticker, data_file.file_path)\n",
    "\n",
    "    if len(df):\n",
    "        df = df.merge(ticker_df, left_on=\"time\", right_on=\"time\")\n",
    "    else:\n",
    "        df = ticker_df\n",
    "\n",
    "\n",
    "df"
   ]
  },
  {
   "cell_type": "code",
   "execution_count": 5,
   "outputs": [
    {
     "ename": "KeyError",
     "evalue": "'Wave Min'",
     "output_type": "error",
     "traceback": [
      "\u001B[1;31m---------------------------------------------------------------------------\u001B[0m",
      "\u001B[1;31mKeyError\u001B[0m                                  Traceback (most recent call last)",
      "File \u001B[1;32me:\\personal@ssd\\programming projects\\other\\rx-trade-calc\\venv\\lib\\site-packages\\pandas\\core\\indexes\\base.py:3621\u001B[0m, in \u001B[0;36mIndex.get_loc\u001B[1;34m(self, key, method, tolerance)\u001B[0m\n\u001B[0;32m   3620\u001B[0m \u001B[38;5;28;01mtry\u001B[39;00m:\n\u001B[1;32m-> 3621\u001B[0m     \u001B[38;5;28;01mreturn\u001B[39;00m \u001B[38;5;28;43mself\u001B[39;49m\u001B[38;5;241;43m.\u001B[39;49m\u001B[43m_engine\u001B[49m\u001B[38;5;241;43m.\u001B[39;49m\u001B[43mget_loc\u001B[49m\u001B[43m(\u001B[49m\u001B[43mcasted_key\u001B[49m\u001B[43m)\u001B[49m\n\u001B[0;32m   3622\u001B[0m \u001B[38;5;28;01mexcept\u001B[39;00m \u001B[38;5;167;01mKeyError\u001B[39;00m \u001B[38;5;28;01mas\u001B[39;00m err:\n",
      "File \u001B[1;32me:\\personal@ssd\\programming projects\\other\\rx-trade-calc\\venv\\lib\\site-packages\\pandas\\_libs\\index.pyx:136\u001B[0m, in \u001B[0;36mpandas._libs.index.IndexEngine.get_loc\u001B[1;34m()\u001B[0m\n",
      "File \u001B[1;32me:\\personal@ssd\\programming projects\\other\\rx-trade-calc\\venv\\lib\\site-packages\\pandas\\_libs\\index.pyx:163\u001B[0m, in \u001B[0;36mpandas._libs.index.IndexEngine.get_loc\u001B[1;34m()\u001B[0m\n",
      "File \u001B[1;32mpandas\\_libs\\hashtable_class_helper.pxi:5198\u001B[0m, in \u001B[0;36mpandas._libs.hashtable.PyObjectHashTable.get_item\u001B[1;34m()\u001B[0m\n",
      "File \u001B[1;32mpandas\\_libs\\hashtable_class_helper.pxi:5206\u001B[0m, in \u001B[0;36mpandas._libs.hashtable.PyObjectHashTable.get_item\u001B[1;34m()\u001B[0m\n",
      "\u001B[1;31mKeyError\u001B[0m: 'Wave Min'",
      "\nThe above exception was the direct cause of the following exception:\n",
      "\u001B[1;31mKeyError\u001B[0m                                  Traceback (most recent call last)",
      "Input \u001B[1;32mIn [5]\u001B[0m, in \u001B[0;36m<module>\u001B[1;34m\u001B[0m\n\u001B[1;32m----> 1\u001B[0m plt\u001B[38;5;241m.\u001B[39mscatter(df\u001B[38;5;241m.\u001B[39mindex, \u001B[43mdf\u001B[49m\u001B[43m[\u001B[49m\u001B[38;5;124;43m\"\u001B[39;49m\u001B[38;5;124;43mWave Min\u001B[39;49m\u001B[38;5;124;43m\"\u001B[39;49m\u001B[43m]\u001B[49m, c\u001B[38;5;241m=\u001B[39m\u001B[38;5;124m\"\u001B[39m\u001B[38;5;124mr\u001B[39m\u001B[38;5;124m\"\u001B[39m)\n\u001B[0;32m      2\u001B[0m plt\u001B[38;5;241m.\u001B[39mscatter(df\u001B[38;5;241m.\u001B[39mindex, df[\u001B[38;5;124m\"\u001B[39m\u001B[38;5;124mWave Max\u001B[39m\u001B[38;5;124m\"\u001B[39m], c\u001B[38;5;241m=\u001B[39m\u001B[38;5;124m\"\u001B[39m\u001B[38;5;124mg\u001B[39m\u001B[38;5;124m\"\u001B[39m)\n\u001B[0;32m      3\u001B[0m plt\u001B[38;5;241m.\u001B[39mplot(df\u001B[38;5;241m.\u001B[39mindex, df[\u001B[38;5;124m\"\u001B[39m\u001B[38;5;124mclose\u001B[39m\u001B[38;5;124m\"\u001B[39m])\n",
      "File \u001B[1;32me:\\personal@ssd\\programming projects\\other\\rx-trade-calc\\venv\\lib\\site-packages\\pandas\\core\\frame.py:3506\u001B[0m, in \u001B[0;36mDataFrame.__getitem__\u001B[1;34m(self, key)\u001B[0m\n\u001B[0;32m   3504\u001B[0m \u001B[38;5;28;01mif\u001B[39;00m \u001B[38;5;28mself\u001B[39m\u001B[38;5;241m.\u001B[39mcolumns\u001B[38;5;241m.\u001B[39mnlevels \u001B[38;5;241m>\u001B[39m \u001B[38;5;241m1\u001B[39m:\n\u001B[0;32m   3505\u001B[0m     \u001B[38;5;28;01mreturn\u001B[39;00m \u001B[38;5;28mself\u001B[39m\u001B[38;5;241m.\u001B[39m_getitem_multilevel(key)\n\u001B[1;32m-> 3506\u001B[0m indexer \u001B[38;5;241m=\u001B[39m \u001B[38;5;28;43mself\u001B[39;49m\u001B[38;5;241;43m.\u001B[39;49m\u001B[43mcolumns\u001B[49m\u001B[38;5;241;43m.\u001B[39;49m\u001B[43mget_loc\u001B[49m\u001B[43m(\u001B[49m\u001B[43mkey\u001B[49m\u001B[43m)\u001B[49m\n\u001B[0;32m   3507\u001B[0m \u001B[38;5;28;01mif\u001B[39;00m is_integer(indexer):\n\u001B[0;32m   3508\u001B[0m     indexer \u001B[38;5;241m=\u001B[39m [indexer]\n",
      "File \u001B[1;32me:\\personal@ssd\\programming projects\\other\\rx-trade-calc\\venv\\lib\\site-packages\\pandas\\core\\indexes\\base.py:3623\u001B[0m, in \u001B[0;36mIndex.get_loc\u001B[1;34m(self, key, method, tolerance)\u001B[0m\n\u001B[0;32m   3621\u001B[0m     \u001B[38;5;28;01mreturn\u001B[39;00m \u001B[38;5;28mself\u001B[39m\u001B[38;5;241m.\u001B[39m_engine\u001B[38;5;241m.\u001B[39mget_loc(casted_key)\n\u001B[0;32m   3622\u001B[0m \u001B[38;5;28;01mexcept\u001B[39;00m \u001B[38;5;167;01mKeyError\u001B[39;00m \u001B[38;5;28;01mas\u001B[39;00m err:\n\u001B[1;32m-> 3623\u001B[0m     \u001B[38;5;28;01mraise\u001B[39;00m \u001B[38;5;167;01mKeyError\u001B[39;00m(key) \u001B[38;5;28;01mfrom\u001B[39;00m \u001B[38;5;21;01merr\u001B[39;00m\n\u001B[0;32m   3624\u001B[0m \u001B[38;5;28;01mexcept\u001B[39;00m \u001B[38;5;167;01mTypeError\u001B[39;00m:\n\u001B[0;32m   3625\u001B[0m     \u001B[38;5;66;03m# If we have a listlike key, _check_indexing_error will raise\u001B[39;00m\n\u001B[0;32m   3626\u001B[0m     \u001B[38;5;66;03m#  InvalidIndexError. Otherwise we fall through and re-raise\u001B[39;00m\n\u001B[0;32m   3627\u001B[0m     \u001B[38;5;66;03m#  the TypeError.\u001B[39;00m\n\u001B[0;32m   3628\u001B[0m     \u001B[38;5;28mself\u001B[39m\u001B[38;5;241m.\u001B[39m_check_indexing_error(key)\n",
      "\u001B[1;31mKeyError\u001B[0m: 'Wave Min'"
     ]
    }
   ],
   "source": [
    "plt.scatter(df.index, df[\"Wave Min\"], c=\"r\")\n",
    "plt.scatter(df.index, df[\"Wave Max\"], c=\"g\")\n",
    "plt.plot(df.index, df[\"close\"])\n",
    "plt.show()"
   ],
   "metadata": {
    "collapsed": false,
    "pycharm": {
     "name": "#%%\n"
    }
   }
  },
  {
   "cell_type": "code",
   "execution_count": null,
   "outputs": [],
   "source": [],
   "metadata": {
    "collapsed": false,
    "pycharm": {
     "name": "#%%\n"
    }
   }
  }
 ],
 "metadata": {
  "kernelspec": {
   "display_name": "Python 3",
   "language": "python",
   "name": "python3"
  },
  "language_info": {
   "codemirror_mode": {
    "name": "ipython",
    "version": 2
   },
   "file_extension": ".py",
   "mimetype": "text/x-python",
   "name": "python",
   "nbconvert_exporter": "python",
   "pygments_lexer": "ipython2",
   "version": "2.7.6"
  }
 },
 "nbformat": 4,
 "nbformat_minor": 0
}