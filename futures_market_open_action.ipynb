{
 "cells": [
  {
   "cell_type": "code",
   "execution_count": 54,
   "outputs": [],
   "source": [
    "import numpy as np\n",
    "import pandas as pd\n",
    "from pandas import DataFrame, pivot_table, read_csv\n",
    "\n",
    "from rxtrade.data import add_amplitude_column, add_basic_columns\n",
    "from rxtrade.utils import get_data_files"
   ],
   "metadata": {
    "collapsed": false,
    "pycharm": {
     "name": "#%%\n"
    }
   }
  },
  {
   "cell_type": "code",
   "execution_count": 55,
   "outputs": [],
   "source": [
    "def add_stats_columns(ticker: str, file_path: str) -> DataFrame:\n",
    "    df = read_csv(file_path)\n",
    "\n",
    "    add_basic_columns(df)\n",
    "    add_amplitude_column(ticker, df)\n",
    "\n",
    "    df[\"Market Open\"] = np.where(\n",
    "        ((df[\"time\"].dt.hour == 8) & (df[\"time\"].dt.minute >= 30)) |\n",
    "        ((df[\"time\"].dt.hour == 9) & (df[\"time\"].dt.minute < 15)),\n",
    "        \"O\",\n",
    "        \"N\"\n",
    "    )\n",
    "\n",
    "    df[f\"Open ({ticker})\"] = df[\"open\"]\n",
    "    df[f\"Close ({ticker})\"] = df[\"close\"]\n",
    "    df[f\"High ({ticker})\"] = df[\"high\"]\n",
    "    df[f\"Low ({ticker})\"] = df[\"low\"]\n",
    "    return df"
   ],
   "metadata": {
    "collapsed": false,
    "pycharm": {
     "name": "#%%\n"
    }
   }
  },
  {
   "cell_type": "code",
   "execution_count": 56,
   "outputs": [],
   "source": [
    "def process_for_pivot(ticker: str, df: DataFrame) -> None:\n",
    "    df[f\"Amplitude ({ticker})\"] = df[f\"Amplitude ({ticker})\"] / (df[f\"Close ({ticker})\"] / df[f\"Close (NQ)\"])"
   ],
   "metadata": {
    "collapsed": false,
    "pycharm": {
     "name": "#%%\n"
    }
   }
  },
  {
   "cell_type": "code",
   "execution_count": 57,
   "outputs": [],
   "source": [
    "def make_pivot(tickers: list[str], df: DataFrame) -> DataFrame:\n",
    "    return pivot_table(\n",
    "        df,\n",
    "        values=[f\"High ({ticker})\" for ticker in tickers] + [f\"Low ({ticker})\" for ticker in tickers],\n",
    "        index=[\"Market Date\"],\n",
    "        aggfunc={\n",
    "                    f\"High ({ticker})\": np.max for ticker in tickers\n",
    "                } | {\n",
    "                    f\"Low ({ticker})\": np.min for ticker in tickers\n",
    "                },\n",
    "        dropna=False,\n",
    "    )"
   ],
   "metadata": {
    "collapsed": false,
    "pycharm": {
     "name": "#%%\n"
    }
   }
  },
  {
   "cell_type": "code",
   "execution_count": 84,
   "outputs": [
    {
     "name": "stdout",
     "output_type": "stream",
     "text": [
      "2022-01-17\n",
      "ES (UP +   5.25 ($   26.25) 0.11% / DOWN -   4.75 ($   23.75) 0.10%): - (< 0.15%)\n",
      "NQ (UP +  14.00 ($   28.00) 0.09% / DOWN -  51.25 ($  102.50) 0.33%): \\ (0 - 20)\n",
      "YM (UP +  60.00 ($   30.00) 0.17% / DOWN -   1.00 ($    0.50) 0.00%): / (0 - 30)\n",
      "\n",
      "2022-01-18\n",
      "ES (UP +   2.50 ($   12.50) 0.05% / DOWN -  25.75 ($  128.75) 0.56%): \\ (0 - 28)\n",
      "NQ (UP +  87.00 ($  174.00) 0.57% / DOWN -  76.00 ($  152.00) 0.50%): v^ (0 - 6 - 41)\n",
      "YM (UP +   7.00 ($    3.50) 0.02% / DOWN - 208.00 ($  104.00) 0.59%): \\ (0 - 28)\n",
      "\n",
      "2022-01-19\n",
      "ES (UP +  15.00 ($   75.00) 0.33% / DOWN -   4.00 ($   20.00) 0.09%): / (0 - 9)\n",
      "NQ (UP + 104.75 ($  209.50) 0.69% / DOWN -  16.00 ($   32.00) 0.10%): / (0 - 34)\n",
      "YM (UP +  68.00 ($   34.00) 0.19% / DOWN -  88.00 ($   44.00) 0.25%): ^v (0 - 9 - 44)\n",
      "\n",
      "2022-01-20\n",
      "ES (UP +  33.00 ($  165.00) 0.73% / DOWN -   2.25 ($   11.25) 0.05%): / (0 - 29)\n",
      "NQ (UP + 125.00 ($  250.00) 0.82% / DOWN -   8.25 ($   16.50) 0.05%): / (0 - 32)\n",
      "YM (UP + 271.00 ($  135.50) 0.77% / DOWN -  15.00 ($    7.50) 0.04%): / (0 - 29)\n",
      "\n",
      "2022-01-21\n",
      "ES (UP +  10.50 ($   52.50) 0.24% / DOWN -  40.25 ($  201.25) 0.90%): ^v (0 - 4 - 42)\n",
      "NQ (UP +  73.00 ($  146.00) 0.50% / DOWN - 160.25 ($  320.50) 1.09%): ^v (0 - 4 - 43)\n",
      "YM (UP +  62.00 ($   31.00) 0.18% / DOWN - 202.00 ($  101.00) 0.58%): ^v (0 - 5 - 43)\n",
      "\n",
      "2022-01-24\n",
      "ES (UP +  14.25 ($   71.25) 0.33% / DOWN -  63.25 ($  316.25) 1.46%): ^v (0 - 10 - 41)\n",
      "NQ (UP +  72.50 ($  145.00) 0.51% / DOWN - 204.25 ($  408.50) 1.44%): ^v (0 - 10 - 41)\n",
      "YM (UP +  75.00 ($   37.50) 0.22% / DOWN - 429.00 ($  214.50) 1.27%): ^v (0 - 10 - 41)\n",
      "\n",
      "2022-01-25\n",
      "ES (UP +  15.50 ($   77.50) 0.36% / DOWN -  59.75 ($  298.75) 1.38%): ^v (0 - 7 - 36)\n",
      "NQ (UP +  85.25 ($  170.50) 0.60% / DOWN - 183.00 ($  366.00) 1.29%): ^v (0 - 7 - 34)\n",
      "YM (UP +  76.00 ($   38.00) 0.22% / DOWN - 504.00 ($  252.00) 1.49%): ^v (0 - 7 - 36)\n",
      "\n",
      "2022-01-26\n",
      "ES (UP +  24.00 ($  120.00) 0.54% / DOWN -  19.50 ($   97.50) 0.44%): v^ (0 - 14 - 34)\n",
      "NQ (UP +  39.25 ($   78.50) 0.27% / DOWN - 125.50 ($  251.00) 0.87%): v^ (0 - 14 - 34)\n",
      "YM (UP + 205.00 ($  102.50) 0.59% / DOWN - 142.00 ($   71.00) 0.41%): v^ (0 - 3 - 34)\n",
      "\n",
      "2022-01-27\n",
      "ES (UP +  34.50 ($  172.50) 0.79% / DOWN -  12.00 ($   60.00) 0.27%): v^ (0 - 8 - 41)\n",
      "NQ (UP +  76.25 ($  152.50) 0.53% / DOWN - 101.00 ($  202.00) 0.70%): v^ (0 - 8 - 41)\n",
      "YM (UP + 332.00 ($  166.00) 0.97% / DOWN -  41.00 ($   20.50) 0.12%): / (0 - 39)\n",
      "\n",
      "2022-01-28\n",
      "ES (UP +   4.50 ($   22.50) 0.10% / DOWN -  49.00 ($  245.00) 1.13%): \\ (0 - 31)\n",
      "NQ (UP +  33.75 ($   67.50) 0.24% / DOWN - 208.25 ($  416.50) 1.48%): ^v (0 - 0 - 31)\n",
      "YM (UP +  20.00 ($   10.00) 0.06% / DOWN - 404.00 ($  202.00) 1.19%): \\ (0 - 31)\n",
      "\n"
     ]
    }
   ],
   "source": [
    "from IPython.core.display_functions import display\n",
    "\n",
    "tickers = []\n",
    "df = DataFrame(columns=[\"time\"])\n",
    "\n",
    "pd.options.display.max_rows = 999\n",
    "\n",
    "for data_file in get_data_files(\"./archive/futures/**/*.csv\"):\n",
    "    if data_file.period != 1:\n",
    "        continue\n",
    "\n",
    "    tickers.append(data_file.ticker)\n",
    "    ticker_df = add_stats_columns(data_file.ticker, data_file.file_path)\n",
    "    ticker_df = ticker_df[ticker_df[\"Market Open\"] == \"O\"]\n",
    "\n",
    "    if len(df):\n",
    "        df = df.merge(ticker_df, left_on=\"time\", right_on=\"time\")\n",
    "    else:\n",
    "        df = ticker_df\n",
    "\n",
    "for ticker in tickers:\n",
    "    process_for_pivot(ticker, df)\n",
    "\n",
    "df_group = df.groupby(\"Market Date\")\n",
    "\n",
    "data = [\n",
    "    [\n",
    "        df_group[f\"High ({ticker})\"].idxmax(),\n",
    "        df_group[f\"Low ({ticker})\"].idxmin(),\n",
    "    ] for ticker in tickers\n",
    "]\n",
    "idx_df = DataFrame([item for sublist in data for item in sublist]).T\n",
    "df_main = idx_df.merge(df_group.first(), on=\"Market Date\", suffixes=(\" (Index)\", None))\n",
    "\n",
    "THRESHOLD = 0.0015\n",
    "\n",
    "MULT = {\n",
    "    \"YM\": 0.5,\n",
    "    \"NQ\": 2,\n",
    "    \"ES\": 5,\n",
    "}\n",
    "\n",
    "for index, row in df_main.iterrows():\n",
    "    print(row[\"Market Date_x\"].date())\n",
    "\n",
    "    for ticker in tickers:\n",
    "        px_open = row[f\"Open ({ticker})\"]\n",
    "\n",
    "        px_ticker_high_idx = row[f\"High ({ticker}) (Index)\"]\n",
    "        px_ticker_low_idx = row[f\"Low ({ticker}) (Index)\"]\n",
    "\n",
    "        px_market_open_high = df.iloc[px_ticker_high_idx][f\"High ({ticker})\"]\n",
    "        px_market_open_low = df.iloc[px_ticker_low_idx][f\"Low ({ticker})\"]\n",
    "\n",
    "        px_ticker_high_idx %= 45\n",
    "        px_ticker_low_idx %= 45\n",
    "\n",
    "        px_rate_open_high = abs(px_market_open_high / px_open - 1)\n",
    "        px_rate_open_low = abs(px_market_open_low / px_open - 1)\n",
    "\n",
    "        px_open_high = abs(px_market_open_high - px_open)\n",
    "        px_open_low = abs(px_market_open_low - px_open)\n",
    "\n",
    "        title = f\"{ticker} \" \\\n",
    "                f\"(UP +{px_open_high:7.2f} ($ {px_open_high * MULT[ticker]:7.2f}) {px_rate_open_high:.2%} / \" \\\n",
    "                f\"DOWN -{px_open_low:7.2f} ($ {px_open_low * MULT[ticker]:7.2f}) {px_rate_open_low:.2%})\"\n",
    "\n",
    "        if px_rate_open_high > THRESHOLD and px_rate_open_low > THRESHOLD:\n",
    "            if px_ticker_high_idx < px_ticker_low_idx:\n",
    "                print(f\"{title}: ^v (0 - {px_ticker_high_idx} - {px_ticker_low_idx})\")\n",
    "            else:\n",
    "                print(f\"{title}: v^ (0 - {px_ticker_low_idx} - {px_ticker_high_idx})\")\n",
    "        elif px_rate_open_high > THRESHOLD:\n",
    "            print(f\"{title}: / (0 - {px_ticker_high_idx})\")\n",
    "        elif px_rate_open_low > THRESHOLD:\n",
    "            print(f\"{title}: \\ (0 - {px_ticker_low_idx})\")\n",
    "        else:\n",
    "            print(f\"{title}: - (< {THRESHOLD:.2%})\")\n",
    "\n",
    "\n",
    "    print()\n"
   ],
   "metadata": {
    "collapsed": false,
    "pycharm": {
     "name": "#%%\n"
    }
   }
  },
  {
   "cell_type": "code",
   "execution_count": null,
   "outputs": [],
   "source": [],
   "metadata": {
    "collapsed": false,
    "pycharm": {
     "name": "#%%\n"
    }
   }
  }
 ],
 "metadata": {
  "kernelspec": {
   "name": "python3",
   "language": "python",
   "display_name": "Python 3 (ipykernel)"
  },
  "language_info": {
   "codemirror_mode": {
    "name": "ipython",
    "version": 2
   },
   "file_extension": ".py",
   "mimetype": "text/x-python",
   "name": "python",
   "nbconvert_exporter": "python",
   "pygments_lexer": "ipython2",
   "version": "2.7.6"
  }
 },
 "nbformat": 4,
 "nbformat_minor": 0
}