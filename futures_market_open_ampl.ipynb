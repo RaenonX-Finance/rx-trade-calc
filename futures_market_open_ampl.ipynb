{
 "cells": [
  {
   "cell_type": "code",
   "execution_count": 14,
   "outputs": [],
   "source": [
    "import numpy as np\n",
    "import pandas as pd\n",
    "from pandas import DataFrame, pivot_table, read_csv\n",
    "\n",
    "from rxtrade.data import add_amplitude_column, add_basic_columns\n",
    "from rxtrade.utils import get_data_files"
   ],
   "metadata": {
    "collapsed": false,
    "pycharm": {
     "name": "#%%\n"
    }
   }
  },
  {
   "cell_type": "code",
   "execution_count": 15,
   "outputs": [],
   "source": [
    "def add_stats_columns(ticker: str, file_path: str) -> DataFrame:\n",
    "    df = read_csv(file_path)\n",
    "\n",
    "    add_basic_columns(df)\n",
    "    add_amplitude_column(ticker, df)\n",
    "\n",
    "    df[\"Market Open\"] = np.where(\n",
    "        ((df[\"time\"].dt.hour == 8) & (df[\"time\"].dt.minute >= 30)) |\n",
    "        ((df[\"time\"].dt.hour == 9) & (df[\"time\"].dt.minute < 15)),\n",
    "        \"O\",\n",
    "        \"N\"\n",
    "    )\n",
    "\n",
    "    df[f\"Close ({ticker})\"] = df[\"close\"]\n",
    "    df[f\"High ({ticker})\"] = df[\"high\"]\n",
    "    df[f\"Low ({ticker})\"] = df[\"low\"]\n",
    "    return df"
   ],
   "metadata": {
    "collapsed": false,
    "pycharm": {
     "name": "#%%\n"
    }
   }
  },
  {
   "cell_type": "code",
   "execution_count": 16,
   "outputs": [],
   "source": [
    "def process_for_pivot(ticker: str, df: DataFrame) -> None:\n",
    "    df[f\"Amplitude ({ticker})\"] = df[f\"Amplitude ({ticker})\"] / (df[f\"Close ({ticker})\"] / df[f\"Close (NQ)\"])"
   ],
   "metadata": {
    "collapsed": false,
    "pycharm": {
     "name": "#%%\n"
    }
   }
  },
  {
   "cell_type": "code",
   "execution_count": 17,
   "outputs": [],
   "source": [
    "def make_pivot(tickers: list[str], df: DataFrame) -> DataFrame:\n",
    "    return pivot_table(\n",
    "        df,\n",
    "        values=[f\"High ({ticker})\" for ticker in tickers] + [f\"Low ({ticker})\" for ticker in tickers],\n",
    "        index=[\"Market Date\", \"Market Code\", \"Market Open\"],\n",
    "        aggfunc={\n",
    "            f\"High ({ticker})\": np.max for ticker in tickers\n",
    "        } | {\n",
    "            f\"Low ({ticker})\": np.min for ticker in tickers\n",
    "        },\n",
    "        dropna=False,\n",
    "    )"
   ],
   "metadata": {
    "collapsed": false,
    "pycharm": {
     "name": "#%%\n"
    }
   }
  },
  {
   "cell_type": "code",
   "execution_count": 47,
   "outputs": [
    {
     "name": "stdout",
     "output_type": "stream",
     "text": [
      "ES\n",
      "True     27\n",
      "False    12\n",
      "Name: High (ES), dtype: int64\n",
      "True     28\n",
      "False    11\n",
      "Name: Low (ES), dtype: int64\n",
      "\n",
      "NQ\n",
      "True     28\n",
      "False    11\n",
      "Name: High (NQ), dtype: int64\n",
      "True     27\n",
      "False    12\n",
      "Name: Low (NQ), dtype: int64\n",
      "\n",
      "YM\n",
      "True     28\n",
      "False    11\n",
      "Name: High (YM), dtype: int64\n",
      "True     26\n",
      "False    13\n",
      "Name: Low (YM), dtype: int64\n",
      "\n"
     ]
    }
   ],
   "source": [
    "from IPython.core.display_functions import display\n",
    "\n",
    "tickers = []\n",
    "df = DataFrame(columns=[\"time\"])\n",
    "\n",
    "pd.options.display.max_rows = 999\n",
    "\n",
    "for data_file in get_data_files(\"./archive/futures/**/*.csv\"):\n",
    "    if data_file.period != 5:\n",
    "        continue\n",
    "\n",
    "    tickers.append(data_file.ticker)\n",
    "    ticker_df = add_stats_columns(data_file.ticker, data_file.file_path)\n",
    "\n",
    "    if len(df):\n",
    "        df = df.merge(ticker_df, left_on=\"time\", right_on=\"time\")\n",
    "    else:\n",
    "        df = ticker_df\n",
    "\n",
    "for ticker in tickers:\n",
    "    process_for_pivot(ticker, df)\n",
    "\n",
    "pivot = make_pivot(tickers, df)\n",
    "\n",
    "for ticker in tickers:\n",
    "    print(ticker)\n",
    "    print((pivot.loc[(slice(None), \"R\", \"O\")][f\"High ({ticker})\"] < pivot.loc[(slice(None), \"E\", \"N\")][f\"High ({ticker})\"]).value_counts())\n",
    "    print((pivot.loc[(slice(None), \"R\", \"O\")][f\"Low ({ticker})\"] > pivot.loc[(slice(None), \"E\", \"N\")][f\"Low ({ticker})\"]).value_counts())\n",
    "    print()"
   ],
   "metadata": {
    "collapsed": false,
    "pycharm": {
     "name": "#%%\n"
    }
   }
  },
  {
   "cell_type": "code",
   "execution_count": 19,
   "outputs": [
    {
     "ename": "KeyError",
     "evalue": "'Amplitude (NQ)'",
     "output_type": "error",
     "traceback": [
      "\u001B[1;31m---------------------------------------------------------------------------\u001B[0m",
      "\u001B[1;31mKeyError\u001B[0m                                  Traceback (most recent call last)",
      "File \u001B[1;32me:\\personal@ssd\\programming projects\\other\\rx-trade-calc\\venv\\lib\\site-packages\\pandas\\core\\indexes\\base.py:3621\u001B[0m, in \u001B[0;36mIndex.get_loc\u001B[1;34m(self, key, method, tolerance)\u001B[0m\n\u001B[0;32m   3620\u001B[0m \u001B[38;5;28;01mtry\u001B[39;00m:\n\u001B[1;32m-> 3621\u001B[0m     \u001B[38;5;28;01mreturn\u001B[39;00m \u001B[38;5;28;43mself\u001B[39;49m\u001B[38;5;241;43m.\u001B[39;49m\u001B[43m_engine\u001B[49m\u001B[38;5;241;43m.\u001B[39;49m\u001B[43mget_loc\u001B[49m\u001B[43m(\u001B[49m\u001B[43mcasted_key\u001B[49m\u001B[43m)\u001B[49m\n\u001B[0;32m   3622\u001B[0m \u001B[38;5;28;01mexcept\u001B[39;00m \u001B[38;5;167;01mKeyError\u001B[39;00m \u001B[38;5;28;01mas\u001B[39;00m err:\n",
      "File \u001B[1;32me:\\personal@ssd\\programming projects\\other\\rx-trade-calc\\venv\\lib\\site-packages\\pandas\\_libs\\index.pyx:136\u001B[0m, in \u001B[0;36mpandas._libs.index.IndexEngine.get_loc\u001B[1;34m()\u001B[0m\n",
      "File \u001B[1;32me:\\personal@ssd\\programming projects\\other\\rx-trade-calc\\venv\\lib\\site-packages\\pandas\\_libs\\index.pyx:163\u001B[0m, in \u001B[0;36mpandas._libs.index.IndexEngine.get_loc\u001B[1;34m()\u001B[0m\n",
      "File \u001B[1;32mpandas\\_libs\\hashtable_class_helper.pxi:5198\u001B[0m, in \u001B[0;36mpandas._libs.hashtable.PyObjectHashTable.get_item\u001B[1;34m()\u001B[0m\n",
      "File \u001B[1;32mpandas\\_libs\\hashtable_class_helper.pxi:5206\u001B[0m, in \u001B[0;36mpandas._libs.hashtable.PyObjectHashTable.get_item\u001B[1;34m()\u001B[0m\n",
      "\u001B[1;31mKeyError\u001B[0m: 'Amplitude (NQ)'",
      "\nThe above exception was the direct cause of the following exception:\n",
      "\u001B[1;31mKeyError\u001B[0m                                  Traceback (most recent call last)",
      "Input \u001B[1;32mIn [19]\u001B[0m, in \u001B[0;36m<module>\u001B[1;34m\u001B[0m\n\u001B[1;32m----> 1\u001B[0m \u001B[43mpivot\u001B[49m\u001B[43m[\u001B[49m\u001B[43mpivot\u001B[49m\u001B[38;5;241;43m.\u001B[39;49m\u001B[43mindex\u001B[49m\u001B[38;5;241;43m.\u001B[39;49m\u001B[43mget_level_values\u001B[49m\u001B[43m(\u001B[49m\u001B[38;5;124;43m\"\u001B[39;49m\u001B[38;5;124;43mMarket Code\u001B[39;49m\u001B[38;5;124;43m\"\u001B[39;49m\u001B[43m)\u001B[49m\u001B[43m \u001B[49m\u001B[38;5;241;43m==\u001B[39;49m\u001B[43m \u001B[49m\u001B[38;5;124;43m\"\u001B[39;49m\u001B[38;5;124;43mR\u001B[39;49m\u001B[38;5;124;43m\"\u001B[39;49m\u001B[43m]\u001B[49m\u001B[43m[\u001B[49m\u001B[38;5;124;43m\"\u001B[39;49m\u001B[38;5;124;43mAmplitude (NQ)\u001B[39;49m\u001B[38;5;124;43m\"\u001B[39;49m\u001B[43m]\u001B[49m\u001B[38;5;241m.\u001B[39mplot\u001B[38;5;241m.\u001B[39mline()\n",
      "File \u001B[1;32me:\\personal@ssd\\programming projects\\other\\rx-trade-calc\\venv\\lib\\site-packages\\pandas\\core\\frame.py:3506\u001B[0m, in \u001B[0;36mDataFrame.__getitem__\u001B[1;34m(self, key)\u001B[0m\n\u001B[0;32m   3504\u001B[0m \u001B[38;5;28;01mif\u001B[39;00m \u001B[38;5;28mself\u001B[39m\u001B[38;5;241m.\u001B[39mcolumns\u001B[38;5;241m.\u001B[39mnlevels \u001B[38;5;241m>\u001B[39m \u001B[38;5;241m1\u001B[39m:\n\u001B[0;32m   3505\u001B[0m     \u001B[38;5;28;01mreturn\u001B[39;00m \u001B[38;5;28mself\u001B[39m\u001B[38;5;241m.\u001B[39m_getitem_multilevel(key)\n\u001B[1;32m-> 3506\u001B[0m indexer \u001B[38;5;241m=\u001B[39m \u001B[38;5;28;43mself\u001B[39;49m\u001B[38;5;241;43m.\u001B[39;49m\u001B[43mcolumns\u001B[49m\u001B[38;5;241;43m.\u001B[39;49m\u001B[43mget_loc\u001B[49m\u001B[43m(\u001B[49m\u001B[43mkey\u001B[49m\u001B[43m)\u001B[49m\n\u001B[0;32m   3507\u001B[0m \u001B[38;5;28;01mif\u001B[39;00m is_integer(indexer):\n\u001B[0;32m   3508\u001B[0m     indexer \u001B[38;5;241m=\u001B[39m [indexer]\n",
      "File \u001B[1;32me:\\personal@ssd\\programming projects\\other\\rx-trade-calc\\venv\\lib\\site-packages\\pandas\\core\\indexes\\base.py:3623\u001B[0m, in \u001B[0;36mIndex.get_loc\u001B[1;34m(self, key, method, tolerance)\u001B[0m\n\u001B[0;32m   3621\u001B[0m     \u001B[38;5;28;01mreturn\u001B[39;00m \u001B[38;5;28mself\u001B[39m\u001B[38;5;241m.\u001B[39m_engine\u001B[38;5;241m.\u001B[39mget_loc(casted_key)\n\u001B[0;32m   3622\u001B[0m \u001B[38;5;28;01mexcept\u001B[39;00m \u001B[38;5;167;01mKeyError\u001B[39;00m \u001B[38;5;28;01mas\u001B[39;00m err:\n\u001B[1;32m-> 3623\u001B[0m     \u001B[38;5;28;01mraise\u001B[39;00m \u001B[38;5;167;01mKeyError\u001B[39;00m(key) \u001B[38;5;28;01mfrom\u001B[39;00m \u001B[38;5;21;01merr\u001B[39;00m\n\u001B[0;32m   3624\u001B[0m \u001B[38;5;28;01mexcept\u001B[39;00m \u001B[38;5;167;01mTypeError\u001B[39;00m:\n\u001B[0;32m   3625\u001B[0m     \u001B[38;5;66;03m# If we have a listlike key, _check_indexing_error will raise\u001B[39;00m\n\u001B[0;32m   3626\u001B[0m     \u001B[38;5;66;03m#  InvalidIndexError. Otherwise we fall through and re-raise\u001B[39;00m\n\u001B[0;32m   3627\u001B[0m     \u001B[38;5;66;03m#  the TypeError.\u001B[39;00m\n\u001B[0;32m   3628\u001B[0m     \u001B[38;5;28mself\u001B[39m\u001B[38;5;241m.\u001B[39m_check_indexing_error(key)\n",
      "\u001B[1;31mKeyError\u001B[0m: 'Amplitude (NQ)'"
     ]
    }
   ],
   "source": [
    "pivot[pivot.index.get_level_values(\"Market Code\") == \"R\"][\"Amplitude (NQ)\"].plot.line()\n"
   ],
   "metadata": {
    "collapsed": false,
    "pycharm": {
     "name": "#%%\n"
    }
   }
  },
  {
   "cell_type": "code",
   "execution_count": null,
   "outputs": [],
   "source": [],
   "metadata": {
    "collapsed": false,
    "pycharm": {
     "name": "#%%\n"
    }
   }
  }
 ],
 "metadata": {
  "kernelspec": {
   "name": "python3",
   "language": "python",
   "display_name": "Python 3 (ipykernel)"
  },
  "language_info": {
   "codemirror_mode": {
    "name": "ipython",
    "version": 2
   },
   "file_extension": ".py",
   "mimetype": "text/x-python",
   "name": "python",
   "nbconvert_exporter": "python",
   "pygments_lexer": "ipython2",
   "version": "2.7.6"
  }
 },
 "nbformat": 4,
 "nbformat_minor": 0
}